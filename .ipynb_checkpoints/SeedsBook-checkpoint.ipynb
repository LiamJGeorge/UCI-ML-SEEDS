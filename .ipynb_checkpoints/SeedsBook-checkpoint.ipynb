{
 "cells": [
  {
   "cell_type": "markdown",
   "metadata": {},
   "source": [
    "https://archive.ics.uci.edu/ml/datasets/seeds"
   ]
  },
  {
   "cell_type": "markdown",
   "metadata": {},
   "source": [
    "    DOMAIN\n",
    "classification, life, clustering"
   ]
  },
  {
   "cell_type": "markdown",
   "metadata": {},
   "source": [
    "    PROBLEM STATEMENT\n"
   ]
  },
  {
   "cell_type": "markdown",
   "metadata": {},
   "source": [
    "    METRIC"
   ]
  },
  {
   "cell_type": "markdown",
   "metadata": {},
   "source": [
    "    DATA SUMMARY\n",
    "N = 210\n",
    "p = 7\n",
    "    1 - area A\n",
    "    2 - perimeter P\n",
    "    3 - compactness C = 4*pi*A/P^2\n",
    "    4 - length of kernel\n",
    "    5 - width of kernel\n",
    "    6 - asymmetry coefficient\n",
    "    7 - length of kernel groove.\n",
    "        all real-value continuous.\n",
    "classes = Kama, Rosa, Canadian\n",
    "    70 entries each\n"
   ]
  },
  {
   "cell_type": "markdown",
   "metadata": {},
   "source": [
    "    SOLUTION PROPOSAL"
   ]
  },
  {
   "cell_type": "markdown",
   "metadata": {},
   "source": [
    "    BENCHMARK MODEL"
   ]
  },
  {
   "cell_type": "markdown",
   "metadata": {},
   "source": [
    "    PLAN"
   ]
  },
  {
   "cell_type": "code",
   "execution_count": 4,
   "metadata": {},
   "outputs": [
    {
     "data": {
      "text/plain": [
       "'\\nConsists of:\\n\\n- numpy/scipy (vectors and computational mathematics)\\n- pandas (dataframes)\\n- matplotlib (plotting)\\n- seaborn (statistical plotting)\\n- scikit-learn (machine learning)\\n'"
      ]
     },
     "execution_count": 4,
     "metadata": {},
     "output_type": "execute_result"
    }
   ],
   "source": [
    "import csv\n",
    "import matplotlib.pyplot as plt\n",
    "import numpy as np\n",
    "import pandas as pd\n",
    "import seaborn as sns\n",
    "from IPython.display import display\n",
    "'''\n",
    "Consists of:\n",
    "\n",
    "- numpy/scipy (vectors and computational mathematics)\n",
    "- pandas (dataframes)\n",
    "- matplotlib (plotting)\n",
    "- seaborn (statistical plotting)\n",
    "- scikit-learn (machine learning)\n",
    "'''"
   ]
  },
  {
   "cell_type": "code",
   "execution_count": null,
   "metadata": {},
   "outputs": [],
   "source": [
    "# import data, somehow, someway\n",
    "\n"
   ]
  }
 ],
 "metadata": {
  "kernelspec": {
   "display_name": "Python 3",
   "language": "python",
   "name": "python3"
  },
  "language_info": {
   "codemirror_mode": {
    "name": "ipython",
    "version": 3
   },
   "file_extension": ".py",
   "mimetype": "text/x-python",
   "name": "python",
   "nbconvert_exporter": "python",
   "pygments_lexer": "ipython3",
   "version": "3.6.4"
  }
 },
 "nbformat": 4,
 "nbformat_minor": 2
}
